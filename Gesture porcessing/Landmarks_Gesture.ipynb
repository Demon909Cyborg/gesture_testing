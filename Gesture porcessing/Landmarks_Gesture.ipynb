{
 "cells": [
  {
   "cell_type": "code",
   "execution_count": null,
   "id": "4aae9aa0",
   "metadata": {},
   "outputs": [],
   "source": [
    "#Memory buffer, is unresponsive\n",
    "import cv2\n",
    "import mediapipe as mp\n",
    "import requests\n",
    "import numpy as np\n",
    "import imutils\n",
    "\n",
    "# Initialize MediaPipe Hand module\n",
    "mp_drawing = mp.solutions.drawing_utils\n",
    "mp_hands = mp.solutions.hands\n",
    "\n",
    "# Replace the URL with your Android camera's IP URL\n",
    "url = \"http://192.168.1.17:8080/shot.jpg\"\n",
    "\n",
    "# Define the \"Thumbs Up\" gesture using landmark indices\n",
    "thumbs_up_indices = [1, 2, 3, 4]\n",
    "\n",
    "# Initialize a variable to track the detected gesture\n",
    "detected_gesture = None\n",
    "\n",
    "# While loop to continuously fetch data from the URL\n",
    "while True:\n",
    "    # Retrieve the image from the Android camera\n",
    "    img_resp = requests.get(url)\n",
    "    img_arr = np.array(bytearray(img_resp.content), dtype=np.uint8)\n",
    "    img = cv2.imdecode(img_arr, -1)\n",
    "    img = imutils.resize(img, width=1000, height=1800)\n",
    "\n",
    "    # Process the image with MediaPipe Hand module\n",
    "    with mp_hands.Hands(min_detection_confidence=0.5, min_tracking_confidence=0.5) as hands:\n",
    "        results = hands.process(cv2.cvtColor(img, cv2.COLOR_BGR2RGB))\n",
    "\n",
    "        if results.multi_hand_landmarks:\n",
    "            for hand_landmarks in results.multi_hand_landmarks:\n",
    "                # Draw landmarks on the frame\n",
    "                mp_drawing.draw_landmarks(img, hand_landmarks, mp_hands.HAND_CONNECTIONS)\n",
    "\n",
    "                # Check for the \"Thumbs Up\" gesture\n",
    "                is_thumbs_up = all(landmarks[i].y < landmarks[i + 1].y for i in thumbs_up_indices)\n",
    "                if is_thumbs_up:\n",
    "                    detected_gesture = \"Thumbs Up\"\n",
    "                else:\n",
    "                    detected_gesture = None\n",
    "\n",
    "                # Display landmark indices as numbers\n",
    "                for i, landmark in enumerate(hand_landmarks.landmark):\n",
    "                    x, y = int(landmark.x * img.shape[1]), int(landmark.y * img.shape[0])\n",
    "                    cv2.putText(img, str(i), (x, y), cv2.FONT_HERSHEY_SIMPLEX, 0.5, (0, 255, 0), 1)\n",
    "\n",
    "    # Display the processed image with hand landmarks, numbers, and detected gesture\n",
    "    cv2.putText(img, f\"Detected Gesture: {detected_gesture}\", (20, 50), cv2.FONT_HERSHEY_SIMPLEX, 1, (0, 0, 255), 2)\n",
    "    cv2.imshow(\"Android_cam\", img)\n",
    "\n",
    "    # Press Esc key to exit\n",
    "    if cv2.waitKey(1) == 27:\n",
    "        break\n",
    "\n",
    "cv2.destroyAllWindows()\n"
   ]
  },
  {
   "cell_type": "code",
   "execution_count": null,
   "id": "6b632d51",
   "metadata": {},
   "outputs": [],
   "source": []
  },
  {
   "cell_type": "code",
   "execution_count": null,
   "id": "16867266",
   "metadata": {},
   "outputs": [],
   "source": []
  }
 ],
 "metadata": {
  "kernelspec": {
   "display_name": "Python 3 (ipykernel)",
   "language": "python",
   "name": "python3"
  },
  "language_info": {
   "codemirror_mode": {
    "name": "ipython",
    "version": 3
   },
   "file_extension": ".py",
   "mimetype": "text/x-python",
   "name": "python",
   "nbconvert_exporter": "python",
   "pygments_lexer": "ipython3",
   "version": "3.11.5"
  }
 },
 "nbformat": 4,
 "nbformat_minor": 5
}
