{
 "cells": [
  {
   "cell_type": "code",
   "execution_count": null,
   "id": "012b0c44",
   "metadata": {},
   "outputs": [],
   "source": [
    "import tensorflow as tf\n",
    "import numpy as np\n",
    "\n",
    "# Load the pre-trained model\n",
    "model = tf.keras.models.load_model('gesture_recognition_model.h5')\n",
    "\n",
    "# Load an image of a hand gesture\n",
    "image = tf.keras.preprocessing.image.load_img('image.jpg', target_size=(224, 224))\n",
    "image = tf.keras.preprocessing.image.img_to_array(image)\n",
    "image = np.expand_dims(image, axis=0)\n",
    "\n",
    "# Preprocess the image\n",
    "image = image.astype('float32')\n",
    "image /= 255\n",
    "\n",
    "# Predict the gesture\n",
    "prediction = model.predict(image)\n",
    "gesture_index = np.argmax(prediction)\n",
    "gesture_name = ['fist', 'thumbs_up', 'open_palm', 'pointing', 'peace_sign'][gesture_index]\n",
    "\n",
    "# Print the gesture name\n",
    "print(gesture_name)"
   ]
  }
 ],
 "metadata": {
  "kernelspec": {
   "display_name": "Python 3 (ipykernel)",
   "language": "python",
   "name": "python3"
  },
  "language_info": {
   "codemirror_mode": {
    "name": "ipython",
    "version": 3
   },
   "file_extension": ".py",
   "mimetype": "text/x-python",
   "name": "python",
   "nbconvert_exporter": "python",
   "pygments_lexer": "ipython3",
   "version": "3.11.5"
  }
 },
 "nbformat": 4,
 "nbformat_minor": 5
}
